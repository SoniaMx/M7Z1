{
 "cells": [
  {
   "cell_type": "code",
   "execution_count": null,
   "id": "50817e8c-d8b3-43e7-96ef-8d904de90d08",
   "metadata": {},
   "outputs": [],
   "source": [
    "\"używamy słowa def i definujemy funkcje i argumenty\""
   ]
  },
  {
   "cell_type": "markdown",
   "id": "4b3b43f9-1b5b-43d7-9106-e5f322fd917c",
   "metadata": {},
   "source": [
    "def sum(a, b):"
   ]
  },
  {
   "cell_type": "code",
   "execution_count": 19,
   "id": "7871fdad-f19c-4389-9274-ad830abd2352",
   "metadata": {},
   "outputs": [
    {
     "data": {
      "text/plain": [
       "'używamy print i wpisujemy sumę a + b'"
      ]
     },
     "execution_count": 19,
     "metadata": {},
     "output_type": "execute_result"
    }
   ],
   "source": [
    "\"używamy print i wpisujemy sumę a + b\""
   ]
  },
  {
   "cell_type": "code",
   "execution_count": 20,
   "id": "43cf3342-b774-4ae8-b253-449d340d447a",
   "metadata": {},
   "outputs": [
    {
     "name": "stdout",
     "output_type": "stream",
     "text": [
      "3\n"
     ]
    }
   ],
   "source": [
    "print(a+b)"
   ]
  },
  {
   "cell_type": "code",
   "execution_count": 23,
   "id": "c431c937-a343-4e00-899d-cb99bd8ecfce",
   "metadata": {},
   "outputs": [
    {
     "data": {
      "text/plain": [
       "'podstawiamy liczby'"
      ]
     },
     "execution_count": 23,
     "metadata": {},
     "output_type": "execute_result"
    }
   ],
   "source": [
    "\"podstawiamy liczby\""
   ]
  },
  {
   "cell_type": "code",
   "execution_count": 24,
   "id": "623cbbba-57f7-422b-bbb0-14011a1f5482",
   "metadata": {},
   "outputs": [
    {
     "name": "stdout",
     "output_type": "stream",
     "text": [
      "6\n"
     ]
    }
   ],
   "source": [
    "sum(2,4)"
   ]
  }
 ],
 "metadata": {
  "kernelspec": {
   "display_name": "Python 3 (ipykernel)",
   "language": "python",
   "name": "python3"
  },
  "language_info": {
   "codemirror_mode": {
    "name": "ipython",
    "version": 3
   },
   "file_extension": ".py",
   "mimetype": "text/x-python",
   "name": "python",
   "nbconvert_exporter": "python",
   "pygments_lexer": "ipython3",
   "version": "3.12.6"
  }
 },
 "nbformat": 4,
 "nbformat_minor": 5
}
